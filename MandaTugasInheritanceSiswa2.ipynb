{
  "nbformat": 4,
  "nbformat_minor": 0,
  "metadata": {
    "colab": {
      "provenance": [],
      "include_colab_link": true
    },
    "kernelspec": {
      "name": "python3",
      "display_name": "Python 3"
    },
    "language_info": {
      "name": "python"
    }
  },
  "cells": [
    {
      "cell_type": "markdown",
      "metadata": {
        "id": "view-in-github",
        "colab_type": "text"
      },
      "source": [
        "<a href=\"https://colab.research.google.com/github/MandaPriyanita/inheritance2/blob/main/MandaTugasInheritanceSiswa2.ipynb\" target=\"_parent\"><img src=\"https://colab.research.google.com/assets/colab-badge.svg\" alt=\"Open In Colab\"/></a>"
      ]
    },
    {
      "cell_type": "markdown",
      "source": [
        "Buatlah tiga kelas: User, Siswa, dan Guru. Class Siswa dan Guru mewarisi atribute dan fungsi dari class User. Keduanya menambahkan atribut dan fungsi tambahan sesuai dengan peran masing-masing.\n",
        "\n",
        "Output dari program ini akan menampilkan informasi seorang siswa dan seorang guru dengan menggunakan fungsi tampil_info() yang diwarisi dari class User. Untuk info user yang ditampilkan silakan ditentukan sendiri minimal ada nama dan umur.\n",
        "\n",
        "Untuk informasi khusus dari siswa dan guru silakan tentukan sendiri, minimal satu atribute tambahan yang membedakan antara siswa dan guru."
      ],
      "metadata": {
        "id": "oWYx5WDsIouf"
      }
    },
    {
      "cell_type": "code",
      "execution_count": 2,
      "metadata": {
        "id": "VQWWW4rpH9ve"
      },
      "outputs": [],
      "source": [
        "#Class User\n",
        "class Pengguna:\n",
        "  def __init__(self, nama, umur):\n",
        "     self.nama = nama\n",
        "     self.umur = umur\n",
        "\n",
        "  def tampil_info(self):\n",
        "     print(\"Nama:\", self.nama)\n",
        "     print(\"Umur:\", self.umur)"
      ]
    },
    {
      "cell_type": "code",
      "source": [
        "#Class Siswa\n",
        "class Siswa(Pengguna):\n",
        "  def __init__(self, nama, umur, kelas):\n",
        "      super().__init__(nama, umur)\n",
        "      self.kelas = kelas\n",
        "\n",
        "  def tampil_info(self):\n",
        "      print(\"Kelas:\",self.kelas)"
      ],
      "metadata": {
        "id": "i_iBjMciJJc5"
      },
      "execution_count": 9,
      "outputs": []
    },
    {
      "cell_type": "code",
      "source": [
        "#Class Guru\n",
        "class Guru(Pengguna):\n",
        "  def __init__(self, nama, umur, mata_pelajaran):\n",
        "     super().__init__(nama, umur)\n",
        "     self.mata_pelajaran = mata_pelajaran\n",
        "\n",
        "  def tampil_info(self):\n",
        "     super().tampil_info()\n",
        "     print(\"Mata pelajaran:\",self.mata_pelajaran)"
      ],
      "metadata": {
        "id": "lrnlKm6sJMjp"
      },
      "execution_count": 10,
      "outputs": []
    },
    {
      "cell_type": "code",
      "source": [
        "#Program utama untuk menampilkan info\n",
        "siswa=Siswa(\"Manda\", \"17\", \"XI RPL 1\")\n",
        "guru=Guru(\"Arif\", \"20\", \"PBO\")\n",
        "\n",
        "siswa.tampil_info()\n",
        "guru.tampil_info()"
      ],
      "metadata": {
        "id": "VDGIma_2JOVx",
        "colab": {
          "base_uri": "https://localhost:8080/"
        },
        "outputId": "93fa4836-93d6-400f-c0d6-98ddc0770e02"
      },
      "execution_count": 11,
      "outputs": [
        {
          "output_type": "stream",
          "name": "stdout",
          "text": [
            "Kelas: XI RPL 1\n",
            "Nama: Arif\n",
            "Umur: 20\n",
            "Mata pelajaran: PBO\n"
          ]
        }
      ]
    }
  ]
}